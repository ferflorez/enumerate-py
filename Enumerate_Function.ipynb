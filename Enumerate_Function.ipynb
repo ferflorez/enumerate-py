{
 "cells": [
  {
   "cell_type": "markdown",
   "metadata": {},
   "source": [
    "Enumerate Function "
   ]
  },
  {
   "cell_type": "markdown",
   "metadata": {},
   "source": [
    "The enumerate function is one of Python's feature having an important, but sometimes ignored, potential. \n",
    "\n",
    "This function allows you to loop over a collection of items while keeping the currents item's index in a numeric \n",
    "variable. \n",
    "\n",
    "In the following example we illustrate the use of this function:\n",
    "    let \"aircraft\" be the colection of jet fighter models without an specific order\n",
    "    The for loop uses a numerical variable named \"index\" to enumerate the collection elements which are represented\n",
    "    by the \"value\" variable\n",
    "    "
   ]
  },
  {
   "cell_type": "code",
   "execution_count": 50,
   "metadata": {},
   "outputs": [
    {
     "name": "stdout",
     "output_type": "stream",
     "text": [
      "0: F22\n",
      "1: F35\n",
      "2: SU57\n",
      "3: MiG35\n"
     ]
    }
   ],
   "source": [
    "aircraft = ['F22', 'F35', 'SU57', 'MiG35']\n",
    "for index, value in enumerate(aircraft):\n",
    "    print(f'{index}: {value}')"
   ]
  },
  {
   "cell_type": "markdown",
   "metadata": {},
   "source": [
    "Developers coming from a C or Java background sometimes use the following range(len(...)) construct, which works but goes against Python's own idiomatic expressiveness"
   ]
  },
  {
   "cell_type": "code",
   "execution_count": 51,
   "metadata": {},
   "outputs": [
    {
     "name": "stdout",
     "output_type": "stream",
     "text": [
      "0: F22\n",
      "1: F35\n",
      "2: SU57\n",
      "3: MiG35\n"
     ]
    }
   ],
   "source": [
    "my_items = ['F22', 'F35', 'SU57', 'MiG35']\n",
    "for i in range(len(my_items)):\n",
    "    print(f'{i}: {my_items[i]}')"
   ]
  },
  {
   "cell_type": "markdown",
   "metadata": {},
   "source": [
    "<h2>Choosing the starting index for the enumeration. </h2>\n",
    "\n",
    "In the next example, we will provide an additional parameter to the enumerate function: an integer indicating the starting index of the enumeration (101 in this case). We will see how the index increases as we travel the collection but the starting value is the given"
   ]
  },
  {
   "cell_type": "code",
   "execution_count": 52,
   "metadata": {
    "scrolled": true
   },
   "outputs": [
    {
     "name": "stdout",
     "output_type": "stream",
     "text": [
      "101: F22\n",
      "102: F35\n",
      "103: SU57\n",
      "104: MiG35\n"
     ]
    }
   ],
   "source": [
    "aircraft = ['F22', 'F35', 'SU57', 'MiG35']\n",
    "for index, value in enumerate(aircraft, 101):\n",
    "    print(f'{index}: {value}')"
   ]
  },
  {
   "cell_type": "markdown",
   "metadata": {},
   "source": [
    "Internally, enumerate is implemented as a Python iterator.\n",
    "\n",
    "This means that element indexes are generated lazily (one by one, just-in-time), which keeps memory use low and keeps this construct so fast.\n",
    "\n"
   ]
  },
  {
   "cell_type": "markdown",
   "metadata": {},
   "source": [
    "We must notice that the enumerate function points to a Python iterator:"
   ]
  },
  {
   "cell_type": "code",
   "execution_count": 53,
   "metadata": {},
   "outputs": [
    {
     "data": {
      "text/plain": [
       "<enumerate at 0x1f729c25ea0>"
      ]
     },
     "execution_count": 53,
     "metadata": {},
     "output_type": "execute_result"
    }
   ],
   "source": [
    "aircraft = ['F22', 'F35', 'SU57', 'MiG35']\n",
    ">>> enumerate(aircraft)"
   ]
  },
  {
   "cell_type": "markdown",
   "metadata": {},
   "source": [
    "In order to retrieve the elements so we can inspect them,Let's call the built-in list() function on the iterator:"
   ]
  },
  {
   "cell_type": "code",
   "execution_count": 54,
   "metadata": {},
   "outputs": [
    {
     "data": {
      "text/plain": [
       "[(0, 'F22'), (1, 'F35'), (2, 'SU57'), (3, 'MiG35')]"
      ]
     },
     "execution_count": 54,
     "metadata": {},
     "output_type": "execute_result"
    }
   ],
   "source": [
    ">>> list(enumerate(aircraft))"
   ]
  },
  {
   "cell_type": "markdown",
   "metadata": {},
   "source": [
    "Compare with the collection elements without the enumeration elements."
   ]
  },
  {
   "cell_type": "code",
   "execution_count": 55,
   "metadata": {},
   "outputs": [
    {
     "data": {
      "text/plain": [
       "['F22', 'F35', 'SU57', 'MiG35']"
      ]
     },
     "execution_count": 55,
     "metadata": {},
     "output_type": "execute_result"
    }
   ],
   "source": [
    ">>> list(aircraft)"
   ]
  },
  {
   "cell_type": "markdown",
   "metadata": {},
   "source": [
    "And with the initialized starting index"
   ]
  },
  {
   "cell_type": "code",
   "execution_count": 56,
   "metadata": {},
   "outputs": [
    {
     "data": {
      "text/plain": [
       "[(101, 'F22'), (102, 'F35'), (103, 'SU57'), (104, 'MiG35')]"
      ]
     },
     "execution_count": 56,
     "metadata": {},
     "output_type": "execute_result"
    }
   ],
   "source": [
    ">>> list(enumerate(aircraft, 101))"
   ]
  },
  {
   "cell_type": "markdown",
   "metadata": {},
   "source": [
    "Python’s enumerate function allows you to write more idiomatic looping constructs"
   ]
  }
 ],
 "metadata": {
  "kernelspec": {
   "display_name": "Python 3",
   "language": "python",
   "name": "python3"
  },
  "language_info": {
   "codemirror_mode": {
    "name": "ipython",
    "version": 3
   },
   "file_extension": ".py",
   "mimetype": "text/x-python",
   "name": "python",
   "nbconvert_exporter": "python",
   "pygments_lexer": "ipython3",
   "version": "3.6.5"
  }
 },
 "nbformat": 4,
 "nbformat_minor": 2
}
